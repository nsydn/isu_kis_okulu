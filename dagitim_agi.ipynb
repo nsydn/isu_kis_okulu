{
 "cells": [
  {
   "cell_type": "markdown",
   "metadata": {},
   "source": [
    "## Dağıtım Ağı Modelleme"
   ]
  },
  {
   "cell_type": "markdown",
   "metadata": {},
   "source": [
    "<img src=\"image3.png\" alt=\"Drawing\" style=\"width: 600px;\"/>"
   ]
  },
  {
   "cell_type": "markdown",
   "metadata": {},
   "source": [
    "### Problem tanımı"
   ]
  },
  {
   "cell_type": "markdown",
   "metadata": {},
   "source": [
    "Uluslararası bir üretim şirketinin Lojistik Ağı Yöneticisi olarak, taşıma maliyetlerinde son zamanlarda görülen artışı ve gelecekteki talep tahminlerini göz önünde bulundurarak şirketin lojistik ağını önümüzdeki 5 yıl için yeniden tasarlamak istiyorsunuz."
   ]
  },
  {
   "cell_type": "markdown",
   "metadata": {},
   "source": [
    "#### Ağ yapısı\n",
    "* Brezilya, ABD, Hindistan, Japonya, Almanya olmak üzere 5 ülkede üretim ve satış yapıyoruz\n",
    "* Her ülkeden 2 tip üretim tesisi var: düşük ve yüksek kapasite\n",
    "* Taşıma maliyetleri (USD/konteyner)\n",
    "* Piyasa talebi (Adet/yıl)"
   ]
  },
  {
   "cell_type": "markdown",
   "metadata": {},
   "source": [
    "#### Maliyetler\n",
    "* Sabit maliyetler (makina/ekipman, kira, vb.): $f$\n",
    "* Üretim değişken maliyetleri (üretim hattı operatörleri, hammadde, vb.): $v_1$\n",
    "* Taşıma değişken maliyetleri (1 konteynır = 1000 adet): $v_2$"
   ]
  },
  {
   "cell_type": "code",
   "execution_count": null,
   "metadata": {},
   "outputs": [],
   "source": [
    "%pip install pulp\n",
    "import pandas as pd\n",
    "from pulp import *"
   ]
  },
  {
   "cell_type": "code",
   "execution_count": null,
   "metadata": {},
   "outputs": [],
   "source": [
    "from google.colab import files\n",
    "uploaded = files.upload()"
   ]
  },
  {
   "cell_type": "code",
   "execution_count": null,
   "metadata": {
    "scrolled": false
   },
   "outputs": [],
   "source": [
    "sab_maliyet = pd.read_excel('data.xlsx', 'fixed_costs',index_col = 0)\n",
    "#sab_maliyet.loc['Hindistan','Yuksek'] *=2\n",
    "sab_maliyet"
   ]
  },
  {
   "cell_type": "code",
   "execution_count": null,
   "metadata": {},
   "outputs": [],
   "source": [
    "var_costs1 = pd.read_excel('data.xlsx', 'manvar_costs', index_col = 0)\n",
    "var_costs1"
   ]
  },
  {
   "cell_type": "code",
   "execution_count": null,
   "metadata": {},
   "outputs": [],
   "source": [
    "var_costs2 = pd.read_excel('data.xlsx', 'freight_costs', index_col = 0)/1000\n",
    "var_costs2 *=5\n",
    "var_costs2"
   ]
  },
  {
   "cell_type": "code",
   "execution_count": null,
   "metadata": {},
   "outputs": [],
   "source": [
    "deg_maliyet = var_costs1 + var_costs2\n",
    "deg_maliyet"
   ]
  },
  {
   "cell_type": "markdown",
   "metadata": {},
   "source": [
    "#### Üretim kapasiteleri"
   ]
  },
  {
   "cell_type": "code",
   "execution_count": null,
   "metadata": {},
   "outputs": [],
   "source": [
    "kapasite = pd.read_excel('data.xlsx', 'capacities', index_col = 0)\n",
    "#kapasite.loc['Hindistan','Yuksek'] *=2\n",
    "kapasite"
   ]
  },
  {
   "cell_type": "markdown",
   "metadata": {},
   "source": [
    "#### Piyasa talepleri"
   ]
  },
  {
   "cell_type": "code",
   "execution_count": null,
   "metadata": {},
   "outputs": [],
   "source": [
    "talep = pd.read_excel('data.xlsx', 'demands', index_col = 0)\n",
    "talep"
   ]
  },
  {
   "cell_type": "code",
   "execution_count": null,
   "metadata": {},
   "outputs": [],
   "source": [
    "lokasyon = ['ABD', 'Almanya', 'Japonya', 'Brezilya', 'Hindistan']\n",
    "tip = ['Dusuk', 'Yuksek']"
   ]
  },
  {
   "cell_type": "markdown",
   "metadata": {},
   "source": [
    "### Model"
   ]
  },
  {
   "cell_type": "code",
   "execution_count": null,
   "metadata": {},
   "outputs": [],
   "source": [
    "model = LpProblem('DagitimAgi',LpMinimize)"
   ]
  },
  {
   "cell_type": "markdown",
   "metadata": {},
   "source": [
    "#### Karar değişkenleri\n",
    "* $x_{i,j}$: Lokasyon $i$'den lokasyon $j$'ye transfer miktarı ($i=1,2,3,4,5$, $j=1,2,3,4,5$)\n",
    "* $y_{i,t}$: Lokasyon $i$'de $t$ kapasiteli tesis kurulacaksa 1, yoksa 0 ($i=1,2,3,4,5$, $t=\\{\\text{'Dusuk','Yuksek'}\\}$)"
   ]
  },
  {
   "cell_type": "code",
   "execution_count": null,
   "metadata": {},
   "outputs": [],
   "source": [
    "x = LpVariable.dicts('transfer', [(i,j) for i in lokasyon for j in lokasyon], lowBound=0, upBound=None, cat='Continuous')\n",
    "y = LpVariable.dicts('kur', [(i,t) for i in lokasyon for t in tip], cat='Binary')"
   ]
  },
  {
   "cell_type": "markdown",
   "metadata": {},
   "source": [
    "#### Amaç fonksiyonu\n",
    "Toplam tesis kurma ve dağıtım maliyetlerini minimize edecek bir dağıtım ağı kurmak istiyoruz:\n",
    "$$\\sum_{i=1}^5 \\sum_{t\\in\\{D,Y\\}} f_{i,t} y_{i,t} + \\sum_{i=1}^5 \\sum_{j=1}^5 v_{i,j} x_{i,j}$$"
   ]
  },
  {
   "cell_type": "code",
   "execution_count": null,
   "metadata": {},
   "outputs": [],
   "source": [
    "model += (lpSum([sab_maliyet.loc[i,t] * y[(i,t)] for i in lokasyon for t in tip]) \n",
    "          + lpSum([deg_maliyet.loc[i,j] * x[(i,j)] for i in lokasyon for j in lokasyon]))\n",
    "model"
   ]
  },
  {
   "cell_type": "markdown",
   "metadata": {},
   "source": [
    "#### Kısıtlar\n",
    "* Herbir $i$ lokasyonundan çıkan toplam transferin o lokasyondaki kapasiteyi aşmadığından emin olmalıyız: $$\\sum_{j=1}^5 x_{i,j} = \\text{Kapasite}_i$$\n",
    "* Herbir $j$ lokasyonuna gelen toplam transferin o lokasyondaki talebi karşıladığından emin olmalıyız: $$\\sum_{i=1}^5 x_{i,j} = \\text{Talep}_j$$"
   ]
  },
  {
   "cell_type": "code",
   "execution_count": null,
   "metadata": {},
   "outputs": [],
   "source": [
    "for i in lokasyon:\n",
    "    model += lpSum([x[(i,j)] for j in lokasyon]) <= lpSum([kapasite.loc[i,t]*y[(i,t)] for t in tip])\n",
    "for j in lokasyon:\n",
    "    model += lpSum([x[(i,j)] for i in lokasyon]) == talep.loc[j,'Talep']"
   ]
  },
  {
   "cell_type": "markdown",
   "metadata": {},
   "source": [
    "#### Modelin çözümü"
   ]
  },
  {
   "cell_type": "code",
   "execution_count": null,
   "metadata": {},
   "outputs": [],
   "source": [
    "model.solve()\n",
    "print('Toplam maliyet = {:,} ($/Month)'.format(int(value(model.objective))))\n",
    "print(\"Durum: {}\".format(LpStatus[model.status]))"
   ]
  },
  {
   "cell_type": "markdown",
   "metadata": {},
   "source": [
    "#### Sonuçlar\n",
    "* Hangi lokasyona hangi kapasitede bir tesis açıyoruz?\n",
    "* Hangi lokasyonlar arası ne kadar ürün transfer ediyoruz?"
   ]
  },
  {
   "cell_type": "code",
   "execution_count": null,
   "metadata": {},
   "outputs": [],
   "source": [
    "dict_plant = {}\n",
    "dict_prod = {}\n",
    "print('Uretim yapacak fabrikalar ve tipleri')\n",
    "for v in model.variables():\n",
    "    if ('kur' in v.name) and (v.varValue == 1):\n",
    "        name = v.name.replace('kur_', '').replace('_', '')\n",
    "        dict_plant[name] = int(v.varValue)\n",
    "        #p_name = name\n",
    "        print(name)#, '=', capacity.loc[p_name,])#, \"=\", v.varValue)\n",
    "print('\\nUretim/transfer miktarlari')\n",
    "for v in model.variables():\n",
    "    if ('transfer' in v.name) and (v.varValue > 0):\n",
    "        name = v.name.replace('transfer_', '').replace('_', '')\n",
    "        dict_prod[name] = v.varValue\n",
    "        print(name, \"=\", '{:,} adet'.format(int(value(v.varValue))))\n",
    "#capacities"
   ]
  },
  {
   "cell_type": "markdown",
   "metadata": {},
   "source": [
    "#### Senaryo A: Üretimi işgücü maliyeti düşük olan bölgeye kaydırma\n",
    "Hindistan'daki yüksek kapasiteli fabrikanın kapasitesini 2 katına çıkarırsak ne olur? (Sabit maliyetin de 2 katına çıktığını varsayalım.)\n",
    "* Brazil plant is still producing for the local market and the USA\n",
    "* India plants produce for all countries except Brazil\n",
    "* Japan does not produce locally anymore.\n",
    "* Total Costs = 51,352,000 \\$/Month (19.4\\% less than Scenario 1)"
   ]
  },
  {
   "cell_type": "markdown",
   "metadata": {},
   "source": [
    "#### Senaryo B: Konteynır kısıtı nedeniyle artan taşıma maliyetleri\n",
    "Konteynır kısıtı nedeniyle taşıma maliyetleri 5 katına çıkarsa ne olur?\n",
    "* Brazil is producing for the local market only\n",
    "* The USA started to produce for the local market and Japan\n",
    "* India closed its low capacity factory\n",
    "* Japan starts to produce for its local market\n",
    "* Because of their limited production capacity, Japan and the USA still rely on the Indian plant\n",
    "* Total Costs = 92,981,000 $/Month"
   ]
  }
 ],
 "metadata": {
  "kernelspec": {
   "display_name": "Python 3",
   "language": "python",
   "name": "python3"
  },
  "language_info": {
   "codemirror_mode": {
    "name": "ipython",
    "version": 3
   },
   "file_extension": ".py",
   "mimetype": "text/x-python",
   "name": "python",
   "nbconvert_exporter": "python",
   "pygments_lexer": "ipython3",
   "version": "3.8.8"
  }
 },
 "nbformat": 4,
 "nbformat_minor": 2
}
