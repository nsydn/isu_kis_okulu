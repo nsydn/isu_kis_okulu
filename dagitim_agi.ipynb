{
 "cells": [
  {
   "cell_type": "markdown",
   "metadata": {},
   "source": [
    "## Dağıtım Ağı Modelleme"
   ]
  },
  {
   "cell_type": "markdown",
   "metadata": {},
   "source": [
    "<img src=\"image2.png\" alt=\"Drawing\" style=\"width: 600px;\"/>"
   ]
  },
  {
   "cell_type": "markdown",
   "metadata": {},
   "source": [
    "### Problem tanımı"
   ]
  },
  {
   "cell_type": "markdown",
   "metadata": {},
   "source": [
    "Uluslararası bir üretim şirketinin Lojistik Ağı Yöneticisi olarak, taşıma maliyetlerinde son zamanlarda görülen artışı ve gelecekteki talep tahminlerini göz önünde bulundurarak şirketin lojistik ağını önümüzdeki 5 yıl için yeniden tasarlamak istiyorsunuz."
   ]
  },
  {
   "cell_type": "markdown",
   "metadata": {},
   "source": [
    "#### Ağ yapısı\n",
    "* Brezilya, ABD, Hindistan, Japonya, Almanya olmak üzere 5 ülkede üretim ve satış yapıyoruz\n",
    "* Her ülkeden 2 tip üretim tesisi var: düşük ve yüksek kapasite\n",
    "* Taşıma maliyetleri (USD/konteyner)\n",
    "* Piyasa talebi (Adet/yıl)"
   ]
  },
  {
   "cell_type": "markdown",
   "metadata": {},
   "source": [
    "#### Maliyetler\n",
    "* Sabit maliyetler (makina/ekipman, kira, vb.)\n",
    "* Üretim değişken maliyetleri (üretim hattı operatörleri, hammadde, vb.)\n",
    "* Taşıma değişken maliyetleri (1 konteynır = 1000 adet)"
   ]
  },
  {
   "cell_type": "code",
   "execution_count": 467,
   "metadata": {},
   "outputs": [],
   "source": [
    "import pandas as pd\n",
    "from pulp import *"
   ]
  },
  {
   "cell_type": "code",
   "execution_count": 483,
   "metadata": {
    "scrolled": false
   },
   "outputs": [
    {
     "data": {
      "text/html": [
       "<div>\n",
       "<style scoped>\n",
       "    .dataframe tbody tr th:only-of-type {\n",
       "        vertical-align: middle;\n",
       "    }\n",
       "\n",
       "    .dataframe tbody tr th {\n",
       "        vertical-align: top;\n",
       "    }\n",
       "\n",
       "    .dataframe thead th {\n",
       "        text-align: right;\n",
       "    }\n",
       "</style>\n",
       "<table border=\"1\" class=\"dataframe\">\n",
       "  <thead>\n",
       "    <tr style=\"text-align: right;\">\n",
       "      <th></th>\n",
       "      <th>Dusuk</th>\n",
       "      <th>Yuksek</th>\n",
       "    </tr>\n",
       "    <tr>\n",
       "      <th>Sabit mal. ($/ay)</th>\n",
       "      <th></th>\n",
       "      <th></th>\n",
       "    </tr>\n",
       "  </thead>\n",
       "  <tbody>\n",
       "    <tr>\n",
       "      <th>ABD</th>\n",
       "      <td>6500000</td>\n",
       "      <td>9500000</td>\n",
       "    </tr>\n",
       "    <tr>\n",
       "      <th>Almanya</th>\n",
       "      <td>4980000</td>\n",
       "      <td>7270000</td>\n",
       "    </tr>\n",
       "    <tr>\n",
       "      <th>Japonya</th>\n",
       "      <td>6230000</td>\n",
       "      <td>9100000</td>\n",
       "    </tr>\n",
       "    <tr>\n",
       "      <th>Brezilya</th>\n",
       "      <td>3230000</td>\n",
       "      <td>4730000</td>\n",
       "    </tr>\n",
       "    <tr>\n",
       "      <th>Hindistan</th>\n",
       "      <td>2110000</td>\n",
       "      <td>3080000</td>\n",
       "    </tr>\n",
       "  </tbody>\n",
       "</table>\n",
       "</div>"
      ],
      "text/plain": [
       "                     Dusuk   Yuksek\n",
       "Sabit mal. ($/ay)                  \n",
       "ABD                6500000  9500000\n",
       "Almanya            4980000  7270000\n",
       "Japonya            6230000  9100000\n",
       "Brezilya           3230000  4730000\n",
       "Hindistan          2110000  3080000"
      ]
     },
     "execution_count": 483,
     "metadata": {},
     "output_type": "execute_result"
    }
   ],
   "source": [
    "fixed_costs = pd.read_excel('input_data.xlsx', 'fixed_costs',index_col = 0)\n",
    "#fixed_costs.loc['Hindistan','Yuksek'] *=2\n",
    "fixed_costs"
   ]
  },
  {
   "cell_type": "code",
   "execution_count": 484,
   "metadata": {},
   "outputs": [
    {
     "data": {
      "text/html": [
       "<div>\n",
       "<style scoped>\n",
       "    .dataframe tbody tr th:only-of-type {\n",
       "        vertical-align: middle;\n",
       "    }\n",
       "\n",
       "    .dataframe tbody tr th {\n",
       "        vertical-align: top;\n",
       "    }\n",
       "\n",
       "    .dataframe thead th {\n",
       "        text-align: right;\n",
       "    }\n",
       "</style>\n",
       "<table border=\"1\" class=\"dataframe\">\n",
       "  <thead>\n",
       "    <tr style=\"text-align: right;\">\n",
       "      <th></th>\n",
       "      <th>ABD</th>\n",
       "      <th>Almanya</th>\n",
       "      <th>Japonya</th>\n",
       "      <th>Brezilya</th>\n",
       "      <th>Hindistan</th>\n",
       "    </tr>\n",
       "    <tr>\n",
       "      <th>Değişken mal. ($/adet)</th>\n",
       "      <th></th>\n",
       "      <th></th>\n",
       "      <th></th>\n",
       "      <th></th>\n",
       "      <th></th>\n",
       "    </tr>\n",
       "  </thead>\n",
       "  <tbody>\n",
       "    <tr>\n",
       "      <th>ABD</th>\n",
       "      <td>12</td>\n",
       "      <td>12</td>\n",
       "      <td>12</td>\n",
       "      <td>12</td>\n",
       "      <td>12</td>\n",
       "    </tr>\n",
       "    <tr>\n",
       "      <th>Almanya</th>\n",
       "      <td>13</td>\n",
       "      <td>13</td>\n",
       "      <td>13</td>\n",
       "      <td>13</td>\n",
       "      <td>13</td>\n",
       "    </tr>\n",
       "    <tr>\n",
       "      <th>Japonya</th>\n",
       "      <td>10</td>\n",
       "      <td>10</td>\n",
       "      <td>10</td>\n",
       "      <td>10</td>\n",
       "      <td>10</td>\n",
       "    </tr>\n",
       "    <tr>\n",
       "      <th>Brezilya</th>\n",
       "      <td>8</td>\n",
       "      <td>8</td>\n",
       "      <td>8</td>\n",
       "      <td>8</td>\n",
       "      <td>8</td>\n",
       "    </tr>\n",
       "    <tr>\n",
       "      <th>Hindistan</th>\n",
       "      <td>5</td>\n",
       "      <td>5</td>\n",
       "      <td>5</td>\n",
       "      <td>5</td>\n",
       "      <td>5</td>\n",
       "    </tr>\n",
       "  </tbody>\n",
       "</table>\n",
       "</div>"
      ],
      "text/plain": [
       "                        ABD  Almanya  Japonya  Brezilya  Hindistan\n",
       "Değişken mal. ($/adet)                                            \n",
       "ABD                      12       12       12        12         12\n",
       "Almanya                  13       13       13        13         13\n",
       "Japonya                  10       10       10        10         10\n",
       "Brezilya                  8        8        8         8          8\n",
       "Hindistan                 5        5        5         5          5"
      ]
     },
     "execution_count": 484,
     "metadata": {},
     "output_type": "execute_result"
    }
   ],
   "source": [
    "# Import Costs\n",
    "manvar_costs = pd.read_excel('input_data.xlsx', 'manvar_costs', index_col = 0)\n",
    "manvar_costs"
   ]
  },
  {
   "cell_type": "code",
   "execution_count": 486,
   "metadata": {},
   "outputs": [
    {
     "data": {
      "text/html": [
       "<div>\n",
       "<style scoped>\n",
       "    .dataframe tbody tr th:only-of-type {\n",
       "        vertical-align: middle;\n",
       "    }\n",
       "\n",
       "    .dataframe tbody tr th {\n",
       "        vertical-align: top;\n",
       "    }\n",
       "\n",
       "    .dataframe thead th {\n",
       "        text-align: right;\n",
       "    }\n",
       "</style>\n",
       "<table border=\"1\" class=\"dataframe\">\n",
       "  <thead>\n",
       "    <tr style=\"text-align: right;\">\n",
       "      <th></th>\n",
       "      <th>ABD</th>\n",
       "      <th>Almanya</th>\n",
       "      <th>Japonya</th>\n",
       "      <th>Brezilya</th>\n",
       "      <th>Hindistan</th>\n",
       "    </tr>\n",
       "    <tr>\n",
       "      <th>Taşıma mal. ($/konteynır)</th>\n",
       "      <th></th>\n",
       "      <th></th>\n",
       "      <th></th>\n",
       "      <th></th>\n",
       "      <th></th>\n",
       "    </tr>\n",
       "  </thead>\n",
       "  <tbody>\n",
       "    <tr>\n",
       "      <th>ABD</th>\n",
       "      <td>0.000</td>\n",
       "      <td>1.75</td>\n",
       "      <td>1.100</td>\n",
       "      <td>2.300</td>\n",
       "      <td>1.254</td>\n",
       "    </tr>\n",
       "    <tr>\n",
       "      <th>Almanya</th>\n",
       "      <td>1.905</td>\n",
       "      <td>0.00</td>\n",
       "      <td>1.231</td>\n",
       "      <td>2.892</td>\n",
       "      <td>1.439</td>\n",
       "    </tr>\n",
       "    <tr>\n",
       "      <th>Japonya</th>\n",
       "      <td>2.200</td>\n",
       "      <td>3.25</td>\n",
       "      <td>0.000</td>\n",
       "      <td>6.230</td>\n",
       "      <td>2.050</td>\n",
       "    </tr>\n",
       "    <tr>\n",
       "      <th>Brezilya</th>\n",
       "      <td>2.350</td>\n",
       "      <td>3.15</td>\n",
       "      <td>4.000</td>\n",
       "      <td>0.000</td>\n",
       "      <td>4.250</td>\n",
       "    </tr>\n",
       "    <tr>\n",
       "      <th>Hindistan</th>\n",
       "      <td>1.950</td>\n",
       "      <td>2.20</td>\n",
       "      <td>3.500</td>\n",
       "      <td>4.200</td>\n",
       "      <td>0.000</td>\n",
       "    </tr>\n",
       "  </tbody>\n",
       "</table>\n",
       "</div>"
      ],
      "text/plain": [
       "                             ABD  Almanya  Japonya  Brezilya  Hindistan\n",
       "Taşıma mal. ($/konteynır)                                              \n",
       "ABD                        0.000     1.75    1.100     2.300      1.254\n",
       "Almanya                    1.905     0.00    1.231     2.892      1.439\n",
       "Japonya                    2.200     3.25    0.000     6.230      2.050\n",
       "Brezilya                   2.350     3.15    4.000     0.000      4.250\n",
       "Hindistan                  1.950     2.20    3.500     4.200      0.000"
      ]
     },
     "execution_count": 486,
     "metadata": {},
     "output_type": "execute_result"
    }
   ],
   "source": [
    "# Import Costs\n",
    "freight_costs = pd.read_excel('input_data.xlsx', 'freight_costs', index_col = 0)/1000\n",
    "#freight_costs *=7\n",
    "freight_costs"
   ]
  },
  {
   "cell_type": "code",
   "execution_count": 487,
   "metadata": {},
   "outputs": [
    {
     "data": {
      "text/html": [
       "<div>\n",
       "<style scoped>\n",
       "    .dataframe tbody tr th:only-of-type {\n",
       "        vertical-align: middle;\n",
       "    }\n",
       "\n",
       "    .dataframe tbody tr th {\n",
       "        vertical-align: top;\n",
       "    }\n",
       "\n",
       "    .dataframe thead th {\n",
       "        text-align: right;\n",
       "    }\n",
       "</style>\n",
       "<table border=\"1\" class=\"dataframe\">\n",
       "  <thead>\n",
       "    <tr style=\"text-align: right;\">\n",
       "      <th></th>\n",
       "      <th>ABD</th>\n",
       "      <th>Almanya</th>\n",
       "      <th>Japonya</th>\n",
       "      <th>Brezilya</th>\n",
       "      <th>Hindistan</th>\n",
       "    </tr>\n",
       "    <tr>\n",
       "      <th>Taşıma mal. ($/konteynır)</th>\n",
       "      <th></th>\n",
       "      <th></th>\n",
       "      <th></th>\n",
       "      <th></th>\n",
       "      <th></th>\n",
       "    </tr>\n",
       "  </thead>\n",
       "  <tbody>\n",
       "    <tr>\n",
       "      <th>ABD</th>\n",
       "      <td>12.000</td>\n",
       "      <td>13.75</td>\n",
       "      <td>13.100</td>\n",
       "      <td>14.300</td>\n",
       "      <td>13.254</td>\n",
       "    </tr>\n",
       "    <tr>\n",
       "      <th>Almanya</th>\n",
       "      <td>14.905</td>\n",
       "      <td>13.00</td>\n",
       "      <td>14.231</td>\n",
       "      <td>15.892</td>\n",
       "      <td>14.439</td>\n",
       "    </tr>\n",
       "    <tr>\n",
       "      <th>Japonya</th>\n",
       "      <td>12.200</td>\n",
       "      <td>13.25</td>\n",
       "      <td>10.000</td>\n",
       "      <td>16.230</td>\n",
       "      <td>12.050</td>\n",
       "    </tr>\n",
       "    <tr>\n",
       "      <th>Brezilya</th>\n",
       "      <td>10.350</td>\n",
       "      <td>11.15</td>\n",
       "      <td>12.000</td>\n",
       "      <td>8.000</td>\n",
       "      <td>12.250</td>\n",
       "    </tr>\n",
       "    <tr>\n",
       "      <th>Hindistan</th>\n",
       "      <td>6.950</td>\n",
       "      <td>7.20</td>\n",
       "      <td>8.500</td>\n",
       "      <td>9.200</td>\n",
       "      <td>5.000</td>\n",
       "    </tr>\n",
       "  </tbody>\n",
       "</table>\n",
       "</div>"
      ],
      "text/plain": [
       "                              ABD  Almanya  Japonya  Brezilya  Hindistan\n",
       "Taşıma mal. ($/konteynır)                                               \n",
       "ABD                        12.000    13.75   13.100    14.300     13.254\n",
       "Almanya                    14.905    13.00   14.231    15.892     14.439\n",
       "Japonya                    12.200    13.25   10.000    16.230     12.050\n",
       "Brezilya                   10.350    11.15   12.000     8.000     12.250\n",
       "Hindistan                   6.950     7.20    8.500     9.200      5.000"
      ]
     },
     "execution_count": 487,
     "metadata": {},
     "output_type": "execute_result"
    }
   ],
   "source": [
    "# Variable Costs\n",
    "var_cost = freight_costs + manvar_costs \n",
    "var_cost"
   ]
  },
  {
   "cell_type": "markdown",
   "metadata": {},
   "source": [
    "#### Fixed Costs"
   ]
  },
  {
   "cell_type": "markdown",
   "metadata": {},
   "source": [
    "#### Üretim kapasiteleri"
   ]
  },
  {
   "cell_type": "code",
   "execution_count": 472,
   "metadata": {},
   "outputs": [
    {
     "data": {
      "text/html": [
       "<div>\n",
       "<style scoped>\n",
       "    .dataframe tbody tr th:only-of-type {\n",
       "        vertical-align: middle;\n",
       "    }\n",
       "\n",
       "    .dataframe tbody tr th {\n",
       "        vertical-align: top;\n",
       "    }\n",
       "\n",
       "    .dataframe thead th {\n",
       "        text-align: right;\n",
       "    }\n",
       "</style>\n",
       "<table border=\"1\" class=\"dataframe\">\n",
       "  <thead>\n",
       "    <tr style=\"text-align: right;\">\n",
       "      <th></th>\n",
       "      <th>Dusuk</th>\n",
       "      <th>Yuksek</th>\n",
       "    </tr>\n",
       "    <tr>\n",
       "      <th>Capacity (Units/month)</th>\n",
       "      <th></th>\n",
       "      <th></th>\n",
       "    </tr>\n",
       "  </thead>\n",
       "  <tbody>\n",
       "    <tr>\n",
       "      <th>ABD</th>\n",
       "      <td>500000</td>\n",
       "      <td>1500000</td>\n",
       "    </tr>\n",
       "    <tr>\n",
       "      <th>Almanya</th>\n",
       "      <td>500000</td>\n",
       "      <td>1500000</td>\n",
       "    </tr>\n",
       "    <tr>\n",
       "      <th>Japonya</th>\n",
       "      <td>500000</td>\n",
       "      <td>1500000</td>\n",
       "    </tr>\n",
       "    <tr>\n",
       "      <th>Brezilya</th>\n",
       "      <td>500000</td>\n",
       "      <td>1500000</td>\n",
       "    </tr>\n",
       "    <tr>\n",
       "      <th>Hindistan</th>\n",
       "      <td>500000</td>\n",
       "      <td>1500000</td>\n",
       "    </tr>\n",
       "  </tbody>\n",
       "</table>\n",
       "</div>"
      ],
      "text/plain": [
       "                         Dusuk   Yuksek\n",
       "Capacity (Units/month)                 \n",
       "ABD                     500000  1500000\n",
       "Almanya                 500000  1500000\n",
       "Japonya                 500000  1500000\n",
       "Brezilya                500000  1500000\n",
       "Hindistan               500000  1500000"
      ]
     },
     "execution_count": 472,
     "metadata": {},
     "output_type": "execute_result"
    }
   ],
   "source": [
    "# Two types of plants: Low Capacity and High Capacity Plant\n",
    "kapasite = pd.read_excel('input_data.xlsx', 'capacities', index_col = 0)\n",
    "#kapasite.loc['Hindistan','Yuksek'] *=2\n",
    "kapasite"
   ]
  },
  {
   "cell_type": "markdown",
   "metadata": {},
   "source": [
    "#### Piyasa talepleri"
   ]
  },
  {
   "cell_type": "code",
   "execution_count": 473,
   "metadata": {},
   "outputs": [
    {
     "data": {
      "text/html": [
       "<div>\n",
       "<style scoped>\n",
       "    .dataframe tbody tr th:only-of-type {\n",
       "        vertical-align: middle;\n",
       "    }\n",
       "\n",
       "    .dataframe tbody tr th {\n",
       "        vertical-align: top;\n",
       "    }\n",
       "\n",
       "    .dataframe thead th {\n",
       "        text-align: right;\n",
       "    }\n",
       "</style>\n",
       "<table border=\"1\" class=\"dataframe\">\n",
       "  <thead>\n",
       "    <tr style=\"text-align: right;\">\n",
       "      <th></th>\n",
       "      <th>Talep</th>\n",
       "    </tr>\n",
       "    <tr>\n",
       "      <th>(Units/month)</th>\n",
       "      <th></th>\n",
       "    </tr>\n",
       "  </thead>\n",
       "  <tbody>\n",
       "    <tr>\n",
       "      <th>ABD</th>\n",
       "      <td>2800000</td>\n",
       "    </tr>\n",
       "    <tr>\n",
       "      <th>Almanya</th>\n",
       "      <td>90000</td>\n",
       "    </tr>\n",
       "    <tr>\n",
       "      <th>Japonya</th>\n",
       "      <td>1700000</td>\n",
       "    </tr>\n",
       "    <tr>\n",
       "      <th>Brezilya</th>\n",
       "      <td>145000</td>\n",
       "    </tr>\n",
       "    <tr>\n",
       "      <th>Hindistan</th>\n",
       "      <td>160000</td>\n",
       "    </tr>\n",
       "  </tbody>\n",
       "</table>\n",
       "</div>"
      ],
      "text/plain": [
       "                 Talep\n",
       "(Units/month)         \n",
       "ABD            2800000\n",
       "Almanya          90000\n",
       "Japonya        1700000\n",
       "Brezilya        145000\n",
       "Hindistan       160000"
      ]
     },
     "execution_count": 473,
     "metadata": {},
     "output_type": "execute_result"
    }
   ],
   "source": [
    "# -- Demand\n",
    "talep = pd.read_excel('input_data.xlsx', 'demands', index_col = 0)\n",
    "talep"
   ]
  },
  {
   "cell_type": "code",
   "execution_count": 474,
   "metadata": {},
   "outputs": [],
   "source": [
    "# Karar değişkenlerini tanımla\n",
    "lokasyon = ['ABD', 'Almanya', 'Japonya', 'Brezilya', 'Hindistan']\n",
    "tip = ['Dusuk', 'Yuksek']"
   ]
  },
  {
   "cell_type": "code",
   "execution_count": 475,
   "metadata": {},
   "outputs": [],
   "source": [
    "# Modeli tanımla\n",
    "model = LpProblem('DagitimAgiModeli',LpMinimize)"
   ]
  },
  {
   "cell_type": "code",
   "execution_count": 476,
   "metadata": {},
   "outputs": [],
   "source": [
    "# Karar değişkenlerini oluştur\n",
    "x = LpVariable.dicts('transfer', [(i,j) for i in lokasyon for j in lokasyon], lowBound=0, upBound=None, cat='Continuous')\n",
    "y = LpVariable.dicts('kur', [(i,s) for i in lokasyon for s in tip], cat='Binary')"
   ]
  },
  {
   "cell_type": "code",
   "execution_count": 477,
   "metadata": {},
   "outputs": [],
   "source": [
    "# Define Objective Function\n",
    "model += (lpSum([fixed_costs.loc[i,s] * y[(i,s)] for s in tip for i in lokasyon]) \n",
    "          + lpSum([var_cost.loc[i,j] * x[(i,j)] for i in lokasyon for j in lokasyon]))"
   ]
  },
  {
   "cell_type": "code",
   "execution_count": null,
   "metadata": {
    "scrolled": true
   },
   "outputs": [],
   "source": [
    "model"
   ]
  },
  {
   "cell_type": "code",
   "execution_count": 479,
   "metadata": {},
   "outputs": [],
   "source": [
    "# Kısıtları ekle\n",
    "for j in lokasyon:\n",
    "    model += lpSum([x[(i, j)] for i in lokasyon]) == talep.loc[j,'Talep']\n",
    "for i in lokasyon:\n",
    "    model += lpSum([x[(i, j)] for j in lokasyon]) <= lpSum([kapasite.loc[i,s]*y[(i,s)] for s in tip])"
   ]
  },
  {
   "cell_type": "code",
   "execution_count": 480,
   "metadata": {},
   "outputs": [
    {
     "name": "stdout",
     "output_type": "stream",
     "text": [
      "Toplam maliyet = 92,671,000 ($/Month)\n",
      "Durum: Optimal\n"
     ]
    }
   ],
   "source": [
    "# Define logical constraint: Add a logical constraint so that if the high capacity plant in USA is open, \n",
    "# then a low capacity plant in Germany is also opened.\n",
    "# model += y[('USA','High_Cap')] <= y[('Germany','Low_Cap')]                                                       \n",
    "                                                       \n",
    "# Modeli coz\n",
    "model.solve()\n",
    "print('Toplam maliyet = {:,} ($/Month)'.format(int(value(model.objective))))\n",
    "print(\"Durum: {}\".format(LpStatus[model.status]))"
   ]
  },
  {
   "cell_type": "code",
   "execution_count": 481,
   "metadata": {},
   "outputs": [
    {
     "name": "stdout",
     "output_type": "stream",
     "text": [
      "Uretim yapacak fabrikalar ve tipleri\n",
      "('ABD','Yuksek')\n",
      "('Brezilya','Dusuk')\n",
      "('Hindistan','Yuksek')\n",
      "('Japonya','Yuksek')\n",
      "\n",
      "Uretim/transfer miktarlari\n",
      "('ABD','ABD') = 1,300,000 adet\n",
      "('ABD','Japonya') = 200,000 adet\n",
      "('Brezilya','ABD') = 250,000 adet\n",
      "('Brezilya','Brezilya') = 145,000 adet\n",
      "('Hindistan','ABD') = 1,250,000 adet\n",
      "('Hindistan','Almanya') = 90,000 adet\n",
      "('Hindistan','Hindistan') = 160,000 adet\n",
      "('Japonya','Japonya') = 1,500,000 adet\n"
     ]
    }
   ],
   "source": [
    "# Dictionary\n",
    "dict_plant = {}\n",
    "dict_prod = {}\n",
    "print('Uretim yapacak fabrikalar ve tipleri')\n",
    "for v in model.variables():\n",
    "    if ('kur' in v.name) and (v.varValue == 1):\n",
    "        name = v.name.replace('kur_', '').replace('_', '')\n",
    "        dict_plant[name] = int(v.varValue)\n",
    "        #p_name = name\n",
    "        print(name)#, '=', capacity.loc[p_name,])#, \"=\", v.varValue)\n",
    "print('\\nUretim/transfer miktarlari')\n",
    "for v in model.variables():\n",
    "    if ('transfer' in v.name) and (v.varValue > 0):\n",
    "        name = v.name.replace('transfer_', '').replace('_', '')\n",
    "        dict_prod[name] = v.varValue\n",
    "        print(name, \"=\", '{:,} adet'.format(int(value(v.varValue))))\n",
    "#capacities"
   ]
  },
  {
   "cell_type": "markdown",
   "metadata": {},
   "source": [
    "#### Senaryo A: Üretimi işgücü maliyeti düşük olan bölgeye kaydırma\n",
    "Hindistan'daki yüksek kapasiteli fabrikanın kapasitesini 2 katına çıkarırsak ne olur? (Sabit maliyetin de 2 katına çıktığını varsayalım.)\n",
    "* Brazil plant is still producing for the local market and the USA\n",
    "* India plants produce for all countries except Brazil\n",
    "* Japan does not produce locally anymore.\n",
    "* Total Costs = 51,352,000 \\$/Month (19.4\\% less than Scenario 1)"
   ]
  },
  {
   "cell_type": "markdown",
   "metadata": {},
   "source": [
    "#### Senaryo B: Konteynır kısıtı nedeniyle artan taşıma maliyetleri\n",
    "Konteynır kısıtı nedeniyle taşıma maliyetleri 5 katına çıkarsa ne olur?\n",
    "* Brazil is producing for the local market only\n",
    "* The USA started to produce for the local market and Japan\n",
    "* India closed its low capacity factory\n",
    "* Japan starts to produce for its local market\n",
    "* Because of their limited production capacity, Japan and the USA still rely on the Indian plant\n",
    "* Total Costs = 92,981,000 $/Month"
   ]
  }
 ],
 "metadata": {
  "kernelspec": {
   "display_name": "Python 3",
   "language": "python",
   "name": "python3"
  },
  "language_info": {
   "codemirror_mode": {
    "name": "ipython",
    "version": 3
   },
   "file_extension": ".py",
   "mimetype": "text/x-python",
   "name": "python",
   "nbconvert_exporter": "python",
   "pygments_lexer": "ipython3",
   "version": "3.8.8"
  }
 },
 "nbformat": 4,
 "nbformat_minor": 2
}
