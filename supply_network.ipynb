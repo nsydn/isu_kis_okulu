{
  "cells": [
    {
      "cell_type": "markdown",
      "metadata": {
        "id": "view-in-github",
        "colab_type": "text"
      },
      "source": [
        "<a href=\"https://colab.research.google.com/github/nsydn/isu_kis_okulu/blob/main/supply_network.ipynb\" target=\"_parent\"><img src=\"https://colab.research.google.com/assets/colab-badge.svg\" alt=\"Open In Colab\"/></a>"
      ]
    },
    {
      "cell_type": "markdown",
      "metadata": {
        "id": "UKCKkIkt-g4I"
      },
      "source": [
        "## **Supply Network**"
      ]
    },
    {
      "cell_type": "markdown",
      "metadata": {
        "id": "PXGcg8G6-g4K"
      },
      "source": [
        "<img src=\"https://github.com/nsydn/kis_okulu/blob/main/image3.png?raw=1\" alt=\"Drawing\" style=\"width: 600px;\"/>"
      ]
    },
    {
      "cell_type": "markdown",
      "metadata": {
        "id": "sZfLAnYX-g4K"
      },
      "source": [
        "### **Problem tanımı** (Problem Definition)"
      ]
    },
    {
      "cell_type": "markdown",
      "metadata": {
        "id": "DVI9pBhI-g4L"
      },
      "source": [
        "Uluslararası bir üretim şirketinin Lojistik Ağı Yöneticisi olarak, taşıma maliyetlerinde son zamanlarda görülen artışı ve gelecekteki talep tahminlerini göz önünde bulundurarak şirketin lojistik ağını önümüzdeki 5 yıl için yeniden tasarlamak istiyorsunuz."
      ]
    },
    {
      "cell_type": "markdown",
      "metadata": {
        "id": "mqiPmYC8-g4L"
      },
      "source": [
        "#### **Ağ yapısı** (Network Structure)\n",
        "* Brezilya, ABD, Hindistan, Japonya, Almanya olmak üzere 5 ülkede üretim ve satış yapıyoruz\n",
        "* Her ülkede 2 tip üretim tesisinden biri kurulabilir: düşük ya da yüksek kapasite\n",
        "* Taşıma maliyetleri (USD/konteyner)\n",
        "* Piyasa talebi (adet/ay)"
      ]
    },
    {
      "cell_type": "markdown",
      "metadata": {
        "id": "mQyhDjYF-g4L"
      },
      "source": [
        "#### **Maliyetler** (Costs)\n",
        "* Sabit maliyetler (fixed costs) (makina/ekipman, kira, vb.): $f$\n",
        "* Değişken maliyetler (variable costs): $v=v_1 + v_2$\n",
        "  * Üretim değişken maliyetleri (manufacturing variable costs) (üretim hattı operatörleri, hammadde, vb.): $v_1$\n",
        "  * Taşıma değişken maliyetleri (freight variable costs) (1 konteyner = 1000 adet): $v_2$"
      ]
    },
    {
      "cell_type": "markdown",
      "source": [
        "### **Bilgisayar Modeli** (Computer Model)"
      ],
      "metadata": {
        "id": "Pznt6FJ8auH1"
      }
    },
    {
      "cell_type": "code",
      "execution_count": null,
      "metadata": {
        "id": "1jQNtIEo-g4M"
      },
      "outputs": [],
      "source": [
        "%pip install pulp\n",
        "import pandas as pd\n",
        "from pulp import *"
      ]
    },
    {
      "cell_type": "code",
      "execution_count": null,
      "metadata": {
        "id": "MsYn1h7k-g4N"
      },
      "outputs": [],
      "source": [
        "# upload data\n",
        "from google.colab import files\n",
        "uploaded = files.upload()"
      ]
    },
    {
      "cell_type": "code",
      "execution_count": null,
      "metadata": {
        "scrolled": false,
        "id": "7qIFN_J5-g4N"
      },
      "outputs": [],
      "source": [
        "# read data\n",
        "fixed_costs = pd.read_excel('data.xlsx', 'fixed_costs',index_col = 0)\n",
        "manuf_costs = pd.read_excel('data.xlsx', 'manuf_costs', index_col = 0) #per_item\n",
        "freight_costs = pd.read_excel('data.xlsx', 'freight_costs', index_col = 0)/1000 #per_container\n",
        "var_costs = manuf_costs + freight_costs #per_item\n",
        "capacities = pd.read_excel('data.xlsx', 'capacities', index_col = 0) #per_month\n",
        "demands = pd.read_excel('data.xlsx', 'demands', index_col = 0) #per_month"
      ]
    },
    {
      "cell_type": "code",
      "execution_count": null,
      "metadata": {
        "id": "yJIRUXKo-g4Q"
      },
      "outputs": [],
      "source": [
        "# introduce locs and facility types\n",
        "locs = ['US', 'Germany', 'Japan', 'Brazil', 'India']\n",
        "types = ['low', 'high']"
      ]
    },
    {
      "cell_type": "code",
      "execution_count": null,
      "metadata": {
        "id": "gvguMA2s-g4Q"
      },
      "outputs": [],
      "source": [
        "# initiate the model\n",
        "my_model = LpProblem('network',LpMinimize)"
      ]
    },
    {
      "cell_type": "markdown",
      "metadata": {
        "id": "m2zHRfiC-g4R"
      },
      "source": [
        "#### **Karar değişkenleri** (Decision variables)\n",
        "* $x_{i,j}$: Lokasyon $i$'den lokasyon $j$'ye transfer miktarı ($i,j\\in$ `locs`)\n",
        "* $y_{i,k}$: Lokasyon $i$'de $k$ kapasiteli tesis kurulacaksa 1, yoksa 0 ($i\\in$ `locs`, $k\\in$ `types`)"
      ]
    },
    {
      "cell_type": "code",
      "execution_count": null,
      "metadata": {
        "id": "B9gH1otd-g4R"
      },
      "outputs": [],
      "source": [
        "x = LpVariable.dicts('x', [(i,j) for i in locs for j in locs], lowBound=0, upBound=None, cat='Continuous')\n",
        "y = LpVariable.dicts('y', [(i,k) for i in locs for k in types], cat='Binary')"
      ]
    },
    {
      "cell_type": "markdown",
      "metadata": {
        "id": "c3Gd2Dzg-g4R"
      },
      "source": [
        "#### **Amaç fonksiyonu** (Objective function)\n",
        "Toplam tesis kurma ve dağıtım maliyetlerini minimize edecek bir dağıtım ağı kurmak istiyoruz:\n",
        "\n",
        "$$\\sum_{i} \\sum_{k} f_{i,t} y_{i,k} + \\sum_{i} \\sum_{j} v_{i,j} x_{i,j}$$"
      ]
    },
    {
      "cell_type": "code",
      "execution_count": null,
      "metadata": {
        "id": "4kVQXgu8-g4R"
      },
      "outputs": [],
      "source": [
        "my_model += (lpSum([fixed_costs.loc[i,k] * y[i,k] for i in locs for k in types]) \n",
        "          + lpSum([var_costs.loc[i,j] * x[i,j] for i in locs for j in locs]))"
      ]
    },
    {
      "cell_type": "markdown",
      "metadata": {
        "id": "xgEhS4IY-g4S"
      },
      "source": [
        "#### **Kısıtlar** (Constraints)\n",
        "* Her bir $i$ lokasyonunda yalnızca bir tip tesis kurabiliriz (`low` ya da `high`):\n",
        "$$\\sum_{k} y_{i,k} \\leq 1\\quad ∀i$$\n",
        "* Herbir $i$ lokasyonundan çıkan toplam transferin o lokasyondaki kapasiteyi aşmadığından emin olmalıyız: $$\\sum_{j} x_{i,j} \\leq \\sum_{k} c_i y_k \\quad ∀i$$\n",
        "* Herbir $j$ lokasyonuna gelen toplam transferin o lokasyondaki talebi tam olarak karşıladığından emin olmalıyız: $$\\sum_{i} x_{i,j} = d_j \\quad ∀j$$"
      ]
    },
    {
      "cell_type": "code",
      "execution_count": null,
      "metadata": {
        "id": "RJYUes-M-g4S"
      },
      "outputs": [],
      "source": [
        "for i in locs:\n",
        "  my_model += lpSum([y[i,k] for k in types]) <= 1\n",
        "for i in locs:\n",
        "  my_model += lpSum([x[i,j] for j in locs]) <= lpSum([capacities.loc[i,k] * y[i,k] for k in types])\n",
        "for j in locs:\n",
        "  my_model += lpSum([x[i,j] for i in locs]) == demands.loc[j,'demand']"
      ]
    },
    {
      "cell_type": "markdown",
      "metadata": {
        "id": "RkG_pd-C-g4S"
      },
      "source": [
        "#### **Modelin çözümü** (Solving the model)"
      ]
    },
    {
      "cell_type": "code",
      "execution_count": null,
      "metadata": {
        "id": "6nmjpaW7-g4S"
      },
      "outputs": [],
      "source": [
        "my_model.solve()\n",
        "print('Total cost = {:,} ($/month)'.format(int(value(my_model.objective))))\n",
        "print(\"Solution status: {}\".format(LpStatus[my_model.status]))"
      ]
    },
    {
      "cell_type": "markdown",
      "metadata": {
        "id": "Cr05E7C0-g4T"
      },
      "source": [
        "#### **Sonuçlar** (Results)\n",
        "* Hangi lokasyona hangi kapasitede bir tesis açıyoruz?\n",
        "* Hangi lokasyonlar arası ne kadar ürün transfer ediyoruz?"
      ]
    },
    {
      "cell_type": "code",
      "source": [
        "plants = pd.DataFrame(index = locs, columns = types)\n",
        "for i in locs:\n",
        "  for k in types:\n",
        "    plants.loc[i,k] = y[i,k].varValue\n",
        "plants"
      ],
      "metadata": {
        "id": "rsuR7mOsr0g2"
      },
      "execution_count": null,
      "outputs": []
    },
    {
      "cell_type": "code",
      "source": [
        "transfers = pd.DataFrame(index = locs, columns = locs)\n",
        "for i in locs:\n",
        "  for j in locs:\n",
        "    transfers.loc[i,j] = x[i,j].varValue\n",
        "transfers  "
      ],
      "metadata": {
        "id": "fJV1iN2JtOLp"
      },
      "execution_count": null,
      "outputs": []
    },
    {
      "cell_type": "markdown",
      "metadata": {
        "id": "3m_27PIJ-g4U"
      },
      "source": [
        "#### **Senaryo A:** Üretimi işgücü maliyeti düşük olan bölgeye kaydırma\n",
        "Hindistan'daki yüksek kapasiteli fabrikanın kapasitesini 2 katına çıkarırsak ne olur? (Sabit maliyetin de 2 katına çıktığını varsayalım.)"
      ]
    },
    {
      "cell_type": "code",
      "source": [
        "capacities.loc['India','high'] *= 2\n",
        "fixed_costs.loc['India','high'] *= 2"
      ],
      "metadata": {
        "id": "O9j3nHk9CAfA"
      },
      "execution_count": null,
      "outputs": []
    },
    {
      "cell_type": "code",
      "source": [
        "my_model = LpProblem('network',LpMinimize)\n",
        "x = LpVariable.dicts('x', [(i,j) for i in locs for j in locs], lowBound=0, upBound=None, cat='Continuous')\n",
        "y = LpVariable.dicts('y', [(i,k) for i in locs for k in types], cat='Binary')\n",
        "my_model += (lpSum([fixed_costs.loc[i,k] * y[i,k] for i in locs for k in types]) \n",
        "          + lpSum([var_costs.loc[i,j] * x[i,j] for i in locs for j in locs]))\n",
        "for i in locs:\n",
        "  my_model += lpSum([y[i,k] for k in types]) <= 1\n",
        "for i in locs:\n",
        "  my_model += lpSum([x[i,j] for j in locs]) <= lpSum([capacities.loc[i,k]*y[i,k] for k in types])\n",
        "for j in locs:\n",
        "  my_model += lpSum([x[i,j] for i in locs]) == demands.loc[j,'demand']\n",
        "my_model.solve()\n",
        "print('Total cost = {:,} ($/month)'.format(int(value(my_model.objective))))\n",
        "print(\"Solution status: {}\".format(LpStatus[my_model.status]))"
      ],
      "metadata": {
        "id": "eJAZdBWivbKO"
      },
      "execution_count": null,
      "outputs": []
    },
    {
      "cell_type": "code",
      "source": [
        "plants = pd.DataFrame(index = locs, columns = types)\n",
        "for i in locs:\n",
        "  for k in types:\n",
        "    plants.loc[i,k] = y[i,k].varValue\n",
        "plants"
      ],
      "metadata": {
        "id": "MQvqiCfIDM0Y"
      },
      "execution_count": null,
      "outputs": []
    },
    {
      "cell_type": "code",
      "source": [
        "transfers = pd.DataFrame(index = locs, columns = locs)\n",
        "for i in locs:\n",
        "  for j in locs:\n",
        "    transfers.loc[i,j] = x[i,j].varValue\n",
        "transfers  "
      ],
      "metadata": {
        "id": "Ll2roNnCwK8e"
      },
      "execution_count": null,
      "outputs": []
    },
    {
      "cell_type": "markdown",
      "metadata": {
        "id": "2G3fcp71-g4U"
      },
      "source": [
        "#### **Senaryo B:** Konteynır kısıtı nedeniyle artan taşıma maliyetleri\n",
        "Konteynır kısıtı nedeniyle taşıma maliyetleri 5 katına çıkarsa ne olur?"
      ]
    },
    {
      "cell_type": "code",
      "source": [
        "# reset scenario 1 values\n",
        "fixed_costs = pd.read_excel('data.xlsx', 'fixed_costs',index_col = 0)\n",
        "capacities = pd.read_excel('data.xlsx', 'capacities', index_col = 0) #per_month"
      ],
      "metadata": {
        "id": "-3m00X6GB2Wq"
      },
      "execution_count": null,
      "outputs": []
    },
    {
      "cell_type": "code",
      "source": [
        "freight_costs *= 5\n",
        "var_costs = manuf_costs + freight_costs #per_item"
      ],
      "metadata": {
        "id": "ARfaq03mCRrv"
      },
      "execution_count": null,
      "outputs": []
    },
    {
      "cell_type": "code",
      "source": [
        "my_model = LpProblem('network',LpMinimize)\n",
        "x = LpVariable.dicts('x', [(i,j) for i in locs for j in locs], lowBound=0, upBound=None, cat='Continuous')\n",
        "y = LpVariable.dicts('y', [(i,k) for i in locs for k in types], cat='Binary')\n",
        "my_model += (lpSum([fixed_costs.loc[i,k] * y[i,k] for i in locs for k in types]) \n",
        "          + lpSum([var_costs.loc[i,j] * x[i,j] for i in locs for j in locs]))\n",
        "for i in locs:\n",
        "  my_model += lpSum([y[i,k] for k in types]) <= 1\n",
        "for i in locs:\n",
        "  my_model += lpSum([x[i,j] for j in locs]) <= lpSum([capacities.loc[i,k]*y[i,k] for k in types])\n",
        "for j in locs:\n",
        "  my_model += lpSum([x[i,j] for i in locs]) == demands.loc[j,'demand']\n",
        "my_model.solve()\n",
        "print('Total cost = {:,} ($/month)'.format(int(value(my_model.objective))))\n",
        "print(\"Solution status: {}\".format(LpStatus[my_model.status]))"
      ],
      "metadata": {
        "id": "MGSa3tgbwR_5"
      },
      "execution_count": null,
      "outputs": []
    },
    {
      "cell_type": "code",
      "source": [
        "plants = pd.DataFrame(index = locs, columns = types)\n",
        "for i in locs:\n",
        "  for k in types:\n",
        "    plants.loc[i,k] = y[i,k].varValue\n",
        "plants"
      ],
      "metadata": {
        "id": "O_xmY3JuD-Su"
      },
      "execution_count": null,
      "outputs": []
    },
    {
      "cell_type": "code",
      "source": [
        "transfers = pd.DataFrame(index = locs, columns = locs)\n",
        "for i in locs:\n",
        "  for j in locs:\n",
        "    transfers.loc[i,j] = x[i,j].varValue\n",
        "transfers  "
      ],
      "metadata": {
        "id": "kdGTfPVhwwsX"
      },
      "execution_count": null,
      "outputs": []
    }
  ],
  "metadata": {
    "kernelspec": {
      "display_name": "Python 3",
      "language": "python",
      "name": "python3"
    },
    "language_info": {
      "codemirror_mode": {
        "name": "ipython",
        "version": 3
      },
      "file_extension": ".py",
      "mimetype": "text/x-python",
      "name": "python",
      "nbconvert_exporter": "python",
      "pygments_lexer": "ipython3",
      "version": "3.8.8"
    },
    "colab": {
      "provenance": [],
      "include_colab_link": true
    }
  },
  "nbformat": 4,
  "nbformat_minor": 0
}